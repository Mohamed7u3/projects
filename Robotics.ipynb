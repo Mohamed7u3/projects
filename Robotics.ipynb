{
 "cells": [
  {
   "cell_type": "code",
   "execution_count": 1,
   "metadata": {},
   "outputs": [],
   "source": [
    "import os\n",
    "import playsound\n",
    "import speech_recognition as sr\n",
    "import datetime\n",
    "from gtts import gTTS\n"
   ]
  },
  {
   "cell_type": "code",
   "execution_count": 2,
   "metadata": {},
   "outputs": [],
   "source": [
    "from datetime import datetime\n",
    "start_time = datetime.now().strftime(\"%d%m%Y%H%M%S\")"
   ]
  },
  {
   "cell_type": "code",
   "execution_count": 3,
   "metadata": {},
   "outputs": [],
   "source": [
    "def speak(text):\n",
    "    tts = gTTS(text=text, lang='en')\n",
    "    filename = 'voice'+ start_time + '.mp3'\n",
    "    tts.save(filename)\n",
    "    playsound.playsound(filename,True)\n",
    "    os.remove(filename)"
   ]
  },
  {
   "cell_type": "code",
   "execution_count": 4,
   "metadata": {},
   "outputs": [
    {
     "name": "stdout",
     "output_type": "stream",
     "text": [
      "what is your name\n"
     ]
    }
   ],
   "source": [
    "def get_audio():\n",
    "    r = sr.Recognizer()\n",
    "    with sr.Microphone()as source:\n",
    "        audio = r.listen(source)\n",
    "        said=\"\"\n",
    "        \n",
    "        try:\n",
    "            said=r.recognize_google(audio)\n",
    "            pass\n",
    "            \n",
    "            print(said)\n",
    "            \n",
    "        except Exception as e:\n",
    "            print(str(e))\n",
    "        return(said)\n",
    "    \n",
    "text=get_audio()\n",
    "\n"
   ]
  },
  {
   "cell_type": "code",
   "execution_count": 5,
   "metadata": {},
   "outputs": [],
   "source": [
    "if 'hello' in text:\n",
    "    speak('hello how are you')\n",
    "if 'i am fine' in text:\n",
    "    speak('that is good for you')\n",
    "if 'what is your name'in text:\n",
    "    speak('my name is mohamed i am 20 years and i am from mit Gamer i am study in faculty of navigation science and space technology in Bin seuf university thank you very much')"
   ]
  },
  {
   "cell_type": "code",
   "execution_count": null,
   "metadata": {},
   "outputs": [],
   "source": []
  }
 ],
 "metadata": {
  "kernelspec": {
   "display_name": "Python 3",
   "language": "python",
   "name": "python3"
  },
  "language_info": {
   "codemirror_mode": {
    "name": "ipython",
    "version": 3
   },
   "file_extension": ".py",
   "mimetype": "text/x-python",
   "name": "python",
   "nbconvert_exporter": "python",
   "pygments_lexer": "ipython3",
   "version": "3.7.6"
  }
 },
 "nbformat": 4,
 "nbformat_minor": 4
}
